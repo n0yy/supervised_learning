{
 "cells": [
  {
   "cell_type": "code",
   "execution_count": 15,
   "id": "5b8d41b8",
   "metadata": {},
   "outputs": [],
   "source": [
    "import pandas as pd\n",
    "\n",
    "from sklearn.model_selection import train_test_split, GridSearchCV\n",
    "from sklearn.svm import SVR\n",
    "from sklearn.pipeline import Pipeline\n",
    "from sklearn.preprocessing import RobustScaler, OneHotEncoder\n",
    "from sklearn.compose import ColumnTransformer\n",
    "from sklearn.impute import SimpleImputer\n",
    "\n",
    "from jcopml.plot import plot_missing_value\n",
    "from jcopml.tuning import grid_search_params as gsp\n",
    "from jcopml.pipeline import cat_pipe, num_pipe"
   ]
  },
  {
   "cell_type": "code",
   "execution_count": null,
   "id": "6ef3e4cd",
   "metadata": {},
   "outputs": [],
   "source": [
    "num_pipe()"
   ]
  },
  {
   "cell_type": "markdown",
   "id": "cf8c7bdf",
   "metadata": {},
   "source": [
    "# Import Data"
   ]
  },
  {
   "cell_type": "code",
   "execution_count": 2,
   "id": "915a0d77",
   "metadata": {},
   "outputs": [
    {
     "data": {
      "text/html": [
       "<div>\n",
       "<style scoped>\n",
       "    .dataframe tbody tr th:only-of-type {\n",
       "        vertical-align: middle;\n",
       "    }\n",
       "\n",
       "    .dataframe tbody tr th {\n",
       "        vertical-align: top;\n",
       "    }\n",
       "\n",
       "    .dataframe thead th {\n",
       "        text-align: right;\n",
       "    }\n",
       "</style>\n",
       "<table border=\"1\" class=\"dataframe\">\n",
       "  <thead>\n",
       "    <tr style=\"text-align: right;\">\n",
       "      <th></th>\n",
       "      <th>Location</th>\n",
       "      <th>Year</th>\n",
       "      <th>Kilometers_Driven</th>\n",
       "      <th>Fuel_Type</th>\n",
       "      <th>Transmission</th>\n",
       "      <th>Owner_Type</th>\n",
       "      <th>Mileage_kmpl</th>\n",
       "      <th>Engine_CC</th>\n",
       "      <th>Power_bhp</th>\n",
       "      <th>Seats</th>\n",
       "      <th>Price</th>\n",
       "    </tr>\n",
       "    <tr>\n",
       "      <th>ID</th>\n",
       "      <th></th>\n",
       "      <th></th>\n",
       "      <th></th>\n",
       "      <th></th>\n",
       "      <th></th>\n",
       "      <th></th>\n",
       "      <th></th>\n",
       "      <th></th>\n",
       "      <th></th>\n",
       "      <th></th>\n",
       "      <th></th>\n",
       "    </tr>\n",
       "  </thead>\n",
       "  <tbody>\n",
       "    <tr>\n",
       "      <th>1</th>\n",
       "      <td>Pune</td>\n",
       "      <td>2015</td>\n",
       "      <td>41000</td>\n",
       "      <td>Diesel</td>\n",
       "      <td>Manual</td>\n",
       "      <td>First</td>\n",
       "      <td>19.67</td>\n",
       "      <td>1582.0</td>\n",
       "      <td>126.20</td>\n",
       "      <td>5.0</td>\n",
       "      <td>12.50</td>\n",
       "    </tr>\n",
       "    <tr>\n",
       "      <th>2</th>\n",
       "      <td>Chennai</td>\n",
       "      <td>2011</td>\n",
       "      <td>46000</td>\n",
       "      <td>Petrol</td>\n",
       "      <td>Manual</td>\n",
       "      <td>First</td>\n",
       "      <td>18.20</td>\n",
       "      <td>1199.0</td>\n",
       "      <td>88.70</td>\n",
       "      <td>5.0</td>\n",
       "      <td>4.50</td>\n",
       "    </tr>\n",
       "    <tr>\n",
       "      <th>3</th>\n",
       "      <td>Chennai</td>\n",
       "      <td>2012</td>\n",
       "      <td>87000</td>\n",
       "      <td>Diesel</td>\n",
       "      <td>Manual</td>\n",
       "      <td>First</td>\n",
       "      <td>20.77</td>\n",
       "      <td>1248.0</td>\n",
       "      <td>88.76</td>\n",
       "      <td>7.0</td>\n",
       "      <td>6.00</td>\n",
       "    </tr>\n",
       "    <tr>\n",
       "      <th>4</th>\n",
       "      <td>Coimbatore</td>\n",
       "      <td>2013</td>\n",
       "      <td>40670</td>\n",
       "      <td>Diesel</td>\n",
       "      <td>Automatic</td>\n",
       "      <td>Second</td>\n",
       "      <td>15.20</td>\n",
       "      <td>1968.0</td>\n",
       "      <td>140.80</td>\n",
       "      <td>5.0</td>\n",
       "      <td>17.74</td>\n",
       "    </tr>\n",
       "    <tr>\n",
       "      <th>6</th>\n",
       "      <td>Jaipur</td>\n",
       "      <td>2013</td>\n",
       "      <td>86999</td>\n",
       "      <td>Diesel</td>\n",
       "      <td>Manual</td>\n",
       "      <td>First</td>\n",
       "      <td>23.08</td>\n",
       "      <td>1461.0</td>\n",
       "      <td>63.10</td>\n",
       "      <td>5.0</td>\n",
       "      <td>3.50</td>\n",
       "    </tr>\n",
       "  </tbody>\n",
       "</table>\n",
       "</div>"
      ],
      "text/plain": [
       "      Location  Year  Kilometers_Driven Fuel_Type Transmission Owner_Type  \\\n",
       "ID                                                                          \n",
       "1         Pune  2015              41000    Diesel       Manual      First   \n",
       "2      Chennai  2011              46000    Petrol       Manual      First   \n",
       "3      Chennai  2012              87000    Diesel       Manual      First   \n",
       "4   Coimbatore  2013              40670    Diesel    Automatic     Second   \n",
       "6       Jaipur  2013              86999    Diesel       Manual      First   \n",
       "\n",
       "    Mileage_kmpl  Engine_CC  Power_bhp  Seats  Price  \n",
       "ID                                                    \n",
       "1          19.67     1582.0     126.20    5.0  12.50  \n",
       "2          18.20     1199.0      88.70    5.0   4.50  \n",
       "3          20.77     1248.0      88.76    7.0   6.00  \n",
       "4          15.20     1968.0     140.80    5.0  17.74  \n",
       "6          23.08     1461.0      63.10    5.0   3.50  "
      ]
     },
     "execution_count": 2,
     "metadata": {},
     "output_type": "execute_result"
    }
   ],
   "source": [
    "df = pd.read_csv(\"data/carprice.csv\", index_col=\"ID\")\n",
    "df.drop(columns=\"Name\", inplace=True)\n",
    "df.head()"
   ]
  },
  {
   "cell_type": "markdown",
   "id": "4407db97",
   "metadata": {},
   "source": [
    "# Splitting Data"
   ]
  },
  {
   "cell_type": "code",
   "execution_count": 26,
   "id": "a84b147c",
   "metadata": {},
   "outputs": [
    {
     "data": {
      "text/plain": [
       "((4762, 10), (1191, 10), (4762,), (1191,))"
      ]
     },
     "execution_count": 26,
     "metadata": {},
     "output_type": "execute_result"
    }
   ],
   "source": [
    "X = df.drop(columns=\"Price\")\n",
    "y = df.Price\n",
    "\n",
    "X_train, X_test, y_train, y_test = train_test_split(X, y, test_size=0.20, random_state=42)\n",
    "X_train.shape, X_test.shape, y_train.shape, y_test.shape"
   ]
  },
  {
   "cell_type": "markdown",
   "id": "38fc6534",
   "metadata": {},
   "source": [
    "# Check Missing Value"
   ]
  },
  {
   "cell_type": "code",
   "execution_count": 4,
   "id": "b0281df2",
   "metadata": {},
   "outputs": [
    {
     "data": {
      "image/png": "[encoded data removed]",
      "text/plain": [
       "<Figure size 1500x800 with 1 Axes>"
      ]
     },
     "metadata": {},
     "output_type": "display_data"
    }
   ],
   "source": [
    "plot_missing_value(df)"
   ]
  },
  {
   "cell_type": "markdown",
   "id": "b25e27a4",
   "metadata": {},
   "source": [
    "# Preprocessing without Scalling"
   ]
  },
  {
   "cell_type": "code",
   "execution_count": 27,
   "id": "8387d9cd",
   "metadata": {},
   "outputs": [],
   "source": [
    "preprocessor = ColumnTransformer([\n",
    "    (\"numeric\", num_pipe(), [\"Year\", \"Kilometers_Driven\", \"Mileage_kmpl\", \"Engine_CC\", \"Power_bhp\", \"Seats\"]),\n",
    "    (\"category\", cat_pipe(encoder=\"onehot\"), [\"Location\", \"Fuel_Type\", \"Transmission\", \"Owner_Type\"])\n",
    "])"
   ]
  },
  {
   "cell_type": "markdown",
   "id": "e5027574",
   "metadata": {},
   "source": [
    "# Training & Evaluation (not scaled)"
   ]
  },
  {
   "cell_type": "code",
   "execution_count": 19,
   "id": "e08fda33",
   "metadata": {},
   "outputs": [
    {
     "name": "stdout",
     "output_type": "stream",
     "text": [
      "Fitting 3 folds for each of 49 candidates, totalling 147 fits\n"
     ]
    },
    {
     "name": "stderr",
     "output_type": "stream",
     "text": [
      "C:\\Users\\Nostics\\miniconda3\\envs\\jcopml\\lib\\site-packages\\sklearn\\svm\\_base.py:284: ConvergenceWarning: Solver terminated early (max_iter=500).  Consider pre-processing your data with StandardScaler or MinMaxScaler.\n",
      "  warnings.warn(\n"
     ]
    },
    {
     "name": "stdout",
     "output_type": "stream",
     "text": [
      "{'algo__C': 10.0, 'algo__gamma': 0.001}\n",
      "0.4799922349506158 0.06775751495963767\n"
     ]
    }
   ],
   "source": [
    "pipeline = Pipeline([\n",
    "    (\"prep\", preprocessor),\n",
    "    (\"algo\", SVR(max_iter=500))\n",
    "])\n",
    "\n",
    "model = GridSearchCV(pipeline, param_grid=gsp.svm_params, cv=3, n_jobs=-1, verbose=1)\n",
    "model.fit(X_train, y_train)\n",
    "\n",
    "print(model.best_params_)\n",
    "print(model.score(X_train, y_train), model.score(X_test, y_test))"
   ]
  },
  {
   "cell_type": "markdown",
   "id": "3a29ab31",
   "metadata": {},
   "source": [
    "# Preprocessing with Scalling"
   ]
  },
  {
   "cell_type": "code",
   "execution_count": 28,
   "id": "f3883abc",
   "metadata": {},
   "outputs": [],
   "source": [
    "preprocessor = ColumnTransformer([\n",
    "    (\"numeric\", num_pipe(scaling=\"robust\"), [\"Year\", \"Kilometers_Driven\", \"Mileage_kmpl\", \"Engine_CC\", \"Power_bhp\", \"Seats\"]),\n",
    "    (\"category\", cat_pipe(encoder=\"onehot\"), [\"Location\", \"Fuel_Type\", \"Transmission\", \"Owner_Type\"])\n",
    "])"
   ]
  },
  {
   "cell_type": "markdown",
   "id": "6b888c4a",
   "metadata": {},
   "source": [
    "# Training & Evaluation (scaled)"
   ]
  },
  {
   "cell_type": "code",
   "execution_count": 29,
   "id": "2484cce1",
   "metadata": {},
   "outputs": [
    {
     "name": "stdout",
     "output_type": "stream",
     "text": [
      "Fitting 3 folds for each of 49 candidates, totalling 147 fits\n"
     ]
    },
    {
     "name": "stderr",
     "output_type": "stream",
     "text": [
      "C:\\Users\\Nostics\\miniconda3\\envs\\jcopml\\lib\\site-packages\\sklearn\\svm\\_base.py:284: ConvergenceWarning: Solver terminated early (max_iter=500).  Consider pre-processing your data with StandardScaler or MinMaxScaler.\n",
      "  warnings.warn(\n"
     ]
    },
    {
     "name": "stdout",
     "output_type": "stream",
     "text": [
      "{'algo__C': 10.0, 'algo__gamma': 0.1}\n",
      "0.8692907569381978 0.8314246832596819\n"
     ]
    }
   ],
   "source": [
    "pipeline = Pipeline([\n",
    "    (\"prep\", preprocessor),\n",
    "    (\"algo\", SVR(max_iter=500))\n",
    "])\n",
    "\n",
    "model = GridSearchCV(pipeline, param_grid=gsp.svm_params, cv=3, n_jobs=-1, verbose=1)\n",
    "model.fit(X_train, y_train)\n",
    "\n",
    "print(model.best_params_)\n",
    "print(model.score(X_train, y_train), model.score(X_test, y_test))"
   ]
  },
  {
   "cell_type": "markdown",
   "id": "f36156b7",
   "metadata": {},
   "source": [
    "# Polynomial Features"
   ]
  },
  {
   "cell_type": "code",
   "execution_count": 24,
   "id": "02dc5276",
   "metadata": {},
   "outputs": [],
   "source": [
    "from luwiji.svm import demo"
   ]
  },
  {
   "cell_type": "code",
   "execution_count": 25,
   "id": "28e73099",
   "metadata": {},
   "outputs": [
    {
     "data": {
      "application/vnd.jupyter.widget-view+json": {
       "model_id": "7275f50c0d09465aa08ff8afc0a40f8a",
       "version_major": 2,
       "version_minor": 0
      },
      "text/plain": [
       "interactive(children=(ToggleButtons(description='degree', options=(1, 2, 3), value=1), Checkbox(value=False, d…"
      ]
     },
     "metadata": {},
     "output_type": "display_data"
    }
   ],
   "source": [
    "demo.poly_features()"
   ]
  },
  {
   "cell_type": "code",
   "execution_count": 31,
   "id": "5f5bac7f",
   "metadata": {},
   "outputs": [
    {
     "name": "stdout",
     "output_type": "stream",
     "text": [
      "Fitting 3 folds for each of 294 candidates, totalling 882 fits\n"
     ]
    },
    {
     "name": "stderr",
     "output_type": "stream",
     "text": [
      "C:\\Users\\Nostics\\miniconda3\\envs\\jcopml\\lib\\site-packages\\sklearn\\svm\\_base.py:284: ConvergenceWarning: Solver terminated early (max_iter=500).  Consider pre-processing your data with StandardScaler or MinMaxScaler.\n",
      "  warnings.warn(\n"
     ]
    },
    {
     "name": "stdout",
     "output_type": "stream",
     "text": [
      "{'algo__C': 10.0, 'algo__gamma': 0.1, 'prep__numeric__poly__degree': 1, 'prep__numeric__poly__interaction_only': True}\n",
      "0.8692907569381978 0.8314246832596819\n"
     ]
    }
   ],
   "source": [
    "preprocessor = ColumnTransformer([\n",
    "    (\"numeric\", num_pipe(scaling=\"robust\", poly=2), [\"Year\", \"Kilometers_Driven\", \"Mileage_kmpl\", \"Engine_CC\", \"Power_bhp\", \"Seats\"]),\n",
    "    (\"category\", cat_pipe(encoder=\"onehot\"), [\"Location\", \"Fuel_Type\", \"Transmission\", \"Owner_Type\"])\n",
    "])\n",
    "\n",
    "pipeline = Pipeline([\n",
    "    (\"prep\", preprocessor),\n",
    "    (\"algo\", SVR(max_iter=500))\n",
    "])\n",
    "\n",
    "model = GridSearchCV(pipeline, param_grid=gsp.svm_poly_params, cv=3, n_jobs=-1, verbose=1)\n",
    "model.fit(X_train, y_train)\n",
    "\n",
    "print(model.best_params_)\n",
    "print(model.score(X_train, y_train), model.score(X_test, y_test))"
   ]
  },
  {
   "cell_type": "code",
   "execution_count": null,
   "id": "ea39dc6e",
   "metadata": {},
   "outputs": [],
   "source": []
  }
 ],
 "metadata": {
  "kernelspec": {
   "display_name": "Python [conda env:jcopml]",
   "language": "python",
   "name": "conda-env-jcopml-py"
  },
  "language_info": {
   "codemirror_mode": {
    "name": "ipython",
    "version": 3
   },
   "file_extension": ".py",
   "mimetype": "text/x-python",
   "name": "python",
   "nbconvert_exporter": "python",
   "pygments_lexer": "ipython3",
   "version": "3.9.0"
  }
 },
 "nbformat": 4,
 "nbformat_minor": 5
}
