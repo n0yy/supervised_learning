{
 "cells": [
  {
   "cell_type": "markdown",
   "id": "4e75edc2",
   "metadata": {},
   "source": [
    "# ENCODING \n",
    "    merubah data kategorikal menjadi numerikal\n",
    "\n",
    " - label encoding\n",
    "\tdigunakan saat datanya bersifat orinalitas\n",
    "\tex: gender (male/female) jadi 0/1\n",
    "\t    tingkat kepuasan (sangat buruk/buruk/baik/sangat baik) jadi 0/1/2/3\n",
    "\n",
    " - one hot encoding\t\n",
    "\tdigunakan kapanpun, karena lebih umum\n",
    "\tex:\n",
    "\t\t|rak \t|\n",
    "\n",
    "\t\t|bawah\t|\n",
    "\t\t|tengah\t|\t\n",
    "\t\t|atas\t|\n",
    "\t\t\n",
    "\n",
    "\t\tjadi\n",
    "\n",
    "\t\tisBawah | isTengah\t| isAtas\n",
    "\t\t   1\t\t0\t    0\n",
    "\t\t   0\t\t1\t    0\n",
    "\t\t   0\t\t0\t    1"
   ]
  },
  {
   "cell_type": "markdown",
   "id": "8e3a0fdc",
   "metadata": {},
   "source": [
    "## One Hot Encoding / Dummy Variable"
   ]
  },
  {
   "cell_type": "code",
   "execution_count": 1,
   "id": "f223d864",
   "metadata": {},
   "outputs": [],
   "source": [
    "import pandas as pd\n",
    "import numpy as np"
   ]
  },
  {
   "cell_type": "code",
   "execution_count": null,
   "id": "d26b038d",
   "metadata": {},
   "outputs": [],
   "source": [
    "df = pd.read_csv(\"data\")"
   ]
  }
 ],
 "metadata": {
  "kernelspec": {
   "display_name": "Python [conda env:jcopml]",
   "language": "python",
   "name": "conda-env-jcopml-py"
  },
  "language_info": {
   "codemirror_mode": {
    "name": "ipython",
    "version": 3
   },
   "file_extension": ".py",
   "mimetype": "text/x-python",
   "name": "python",
   "nbconvert_exporter": "python",
   "pygments_lexer": "ipython3",
   "version": "3.9.0"
  }
 },
 "nbformat": 4,
 "nbformat_minor": 5
}
