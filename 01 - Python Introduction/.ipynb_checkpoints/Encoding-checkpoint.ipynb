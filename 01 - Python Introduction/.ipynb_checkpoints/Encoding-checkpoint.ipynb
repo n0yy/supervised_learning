{
 "cells": [
  {
   "cell_type": "markdown",
   "id": "512f49fe",
   "metadata": {},
   "source": [
    "# ENCODING \n",
    "    merubah data kategorikal menjadi numerikal\n",
    "\n",
    " - label encoding\n",
    "\tdigunakan saat datanya bersifat orinalitas\n",
    "\tex: gender (male/female) jadi 0/1\n",
    "\t    tingkat kepuasan (sangat buruk/buruk/baik/sangat baik) jadi 0/1/2/3\n",
    "\n",
    " - one hot encoding\t\n",
    "\tdigunakan kapanpun, karena lebih umum\n",
    "\tex:\n",
    "\t\t|rak \t|\n",
    "\n",
    "\t\t|bawah\t|\n",
    "\t\t|tengah\t|\t\n",
    "\t\t|atas\t|\n",
    "\t\t\n",
    "\n",
    "\t\tjadi\n",
    "\n",
    "\t\tisBawah | isTengah\t| isAtas\n",
    "\t\t   1\t\t0\t    0\n",
    "\t\t   0\t\t1\t    0\n",
    "\t\t   0\t\t0\t    1"
   ]
  },
  {
   "cell_type": "code",
   "execution_count": null,
   "id": "a1db27c6",
   "metadata": {},
   "outputs": [],
   "source": []
  }
 ],
 "metadata": {
  "kernelspec": {
   "display_name": "Python 3 (ipykernel)",
   "language": "python",
   "name": "python3"
  },
  "language_info": {
   "codemirror_mode": {
    "name": "ipython",
    "version": 3
   },
   "file_extension": ".py",
   "mimetype": "text/x-python",
   "name": "python",
   "nbconvert_exporter": "python",
   "pygments_lexer": "ipython3",
   "version": "3.9.12"
  }
 },
 "nbformat": 4,
 "nbformat_minor": 5
}
