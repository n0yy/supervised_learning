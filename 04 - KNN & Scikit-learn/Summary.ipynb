{
 "cells": [
  {
   "cell_type": "markdown",
   "id": "e59d8c71",
   "metadata": {},
   "source": [
    "# Summary"
   ]
  },
  {
   "cell_type": "markdown",
   "id": "45a01461",
   "metadata": {},
   "source": [
    "## Cross Val = 5"
   ]
  },
  {
   "cell_type": "code",
   "execution_count": 6,
   "id": "d74ecb0f",
   "metadata": {},
   "outputs": [
    {
     "name": "stdout",
     "output_type": "stream",
     "text": [
      "Fitting 5 folds for each of 100 candidates, totalling 500 fits\n",
      "{'algo__n_neighbors': 15, 'algo__p': 1, 'algo__weights': 'uniform'}\n",
      "0.827247191011236 0.7877094972067039\n"
     ]
    }
   ],
   "source": [
    "# Import Library/Module\n",
    "import pandas as pd \n",
    "from sklearn.model_selection import train_test_split, GridSearchCV\n",
    "from sklearn.neighbors import KNeighborsClassifier\n",
    "from sklearn.preprocessing import MinMaxScaler, OneHotEncoder\n",
    "from sklearn.pipeline import Pipeline\n",
    "from sklearn.impute import SimpleImputer\n",
    "from sklearn.compose import ColumnTransformer\n",
    "\n",
    "\n",
    "# Read data and drop table\n",
    "df = pd.read_csv(\"data/titanic.csv\")\n",
    "df.drop(columns=[\"Name\", \"Age\", \"Ticket\", \"Cabin\"], inplace=True)\n",
    "\n",
    "# Splitting Data\n",
    "X = df.drop(columns=\"Survived\")\n",
    "y = df[\"Survived\"]\n",
    "\n",
    "X_train, X_test, y_train, y_test = train_test_split(X, y, test_size=0.2, stratify=y, random_state=42)\n",
    "\n",
    "# Preprocessor\n",
    "numeric_data = Pipeline([\n",
    "    (\"imputer\", SimpleImputer(strategy=\"mean\")),\n",
    "    (\"scaler\", MinMaxScaler())\n",
    "])\n",
    "\n",
    "categoric_data = Pipeline([\n",
    "    (\"imputer\", SimpleImputer(strategy=\"most_frequent\")),\n",
    "    (\"one_hot\", OneHotEncoder())\n",
    "])\n",
    "\n",
    "preprocessor = ColumnTransformer([\n",
    "    (\"numeric\", numeric_data, [\"Fare\", \"SibSp\", \"Parch\"]),\n",
    "    (\"categoric\", categoric_data, [\"Pclass\", \"Sex\", \"Embarked\"])\n",
    "])\n",
    "\n",
    "# Main Pipeline\n",
    "pipeline = Pipeline([\n",
    "    (\"prep\", preprocessor),\n",
    "    (\"algo\", KNeighborsClassifier())\n",
    "])\n",
    "\n",
    "# Parameter Tuning\n",
    "model = GridSearchCV(\n",
    "                pipeline,\n",
    "                param_grid={\n",
    "                    \"algo__n_neighbors\": range(1, 51, 2),\n",
    "                    \"algo__weights\": [\"uniform\", \"distance\"],\n",
    "                    \"algo__p\": [1, 2],\n",
    "                },\n",
    "                cv=5,\n",
    "                n_jobs=-1,\n",
    "                verbose=1\n",
    ")\n",
    "model.fit(X_train, y_train)\n",
    "\n",
    "\n",
    "# Evaluation\n",
    "print(model.best_params_)\n",
    "print(model.score(X_train, y_train), model.score(X_test, y_test))"
   ]
  },
  {
   "cell_type": "markdown",
   "id": "4a311b72",
   "metadata": {},
   "source": [
    "## Cross Val = 3"
   ]
  },
  {
   "cell_type": "code",
   "execution_count": 7,
   "id": "abe969e9",
   "metadata": {},
   "outputs": [
    {
     "name": "stdout",
     "output_type": "stream",
     "text": [
      "Fitting 3 folds for each of 100 candidates, totalling 300 fits\n",
      "{'algo__n_neighbors': 19, 'algo__p': 1, 'algo__weights': 'uniform'}\n",
      "0.8188202247191011 0.7877094972067039\n"
     ]
    }
   ],
   "source": [
    "# Import Library/Module\n",
    "import pandas as pd \n",
    "from sklearn.model_selection import train_test_split, GridSearchCV\n",
    "from sklearn.neighbors import KNeighborsClassifier\n",
    "from sklearn.preprocessing import MinMaxScaler, OneHotEncoder\n",
    "from sklearn.pipeline import Pipeline\n",
    "from sklearn.impute import SimpleImputer\n",
    "from sklearn.compose import ColumnTransformer\n",
    "\n",
    "\n",
    "# Read data and drop table\n",
    "df = pd.read_csv(\"data/titanic.csv\")\n",
    "df.drop(columns=[\"Name\", \"Age\", \"Ticket\", \"Cabin\"], inplace=True)\n",
    "\n",
    "# Splitting Data\n",
    "X = df.drop(columns=\"Survived\")\n",
    "y = df[\"Survived\"]\n",
    "\n",
    "X_train, X_test, y_train, y_test = train_test_split(X, y, test_size=0.2, stratify=y, random_state=42)\n",
    "\n",
    "# Preprocessor\n",
    "numeric_data = Pipeline([\n",
    "    (\"imputer\", SimpleImputer(strategy=\"mean\")),\n",
    "    (\"scaler\", MinMaxScaler())\n",
    "])\n",
    "\n",
    "categoric_data = Pipeline([\n",
    "    (\"imputer\", SimpleImputer(strategy=\"most_frequent\")),\n",
    "    (\"one_hot\", OneHotEncoder())\n",
    "])\n",
    "\n",
    "preprocessor = ColumnTransformer([\n",
    "    (\"numeric\", numeric_data, [\"Fare\", \"SibSp\", \"Parch\"]),\n",
    "    (\"categoric\", categoric_data, [\"Pclass\", \"Sex\", \"Embarked\"])\n",
    "])\n",
    "\n",
    "# Main Pipeline\n",
    "pipeline = Pipeline([\n",
    "    (\"prep\", preprocessor),\n",
    "    (\"algo\", KNeighborsClassifier())\n",
    "])\n",
    "\n",
    "# Parameter Tuning\n",
    "model = GridSearchCV(\n",
    "                pipeline,\n",
    "                param_grid={\n",
    "                    \"algo__n_neighbors\": range(1, 51, 2),\n",
    "                    \"algo__weights\": [\"uniform\", \"distance\"],\n",
    "                    \"algo__p\": [1, 2],\n",
    "                },\n",
    "                cv=3,\n",
    "                n_jobs=-1,\n",
    "                verbose=1\n",
    ")\n",
    "model.fit(X_train, y_train)\n",
    "\n",
    "\n",
    "# Evaluation\n",
    "print(model.best_params_)\n",
    "print(model.score(X_train, y_train), model.score(X_test, y_test))"
   ]
  },
  {
   "cell_type": "code",
   "execution_count": null,
   "id": "ccea79fe",
   "metadata": {},
   "outputs": [],
   "source": []
  }
 ],
 "metadata": {
  "kernelspec": {
   "display_name": "Python [conda env:jcopml]",
   "language": "python",
   "name": "conda-env-jcopml-py"
  },
  "language_info": {
   "codemirror_mode": {
    "name": "ipython",
    "version": 3
   },
   "file_extension": ".py",
   "mimetype": "text/x-python",
   "name": "python",
   "nbconvert_exporter": "python",
   "pygments_lexer": "ipython3",
   "version": "3.9.0"
  }
 },
 "nbformat": 4,
 "nbformat_minor": 5
}
